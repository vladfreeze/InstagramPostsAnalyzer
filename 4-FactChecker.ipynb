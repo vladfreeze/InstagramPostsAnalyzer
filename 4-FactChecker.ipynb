{
 "cells": [
  {
   "cell_type": "markdown",
   "metadata": {
    "cell_id": "baac6b2fe25d4490bce6d6e24b9249bf",
    "deepnote_cell_type": "text-cell-h1",
    "formattedRanges": []
   },
   "source": [
    "# Fact Checker"
   ]
  },
  {
   "cell_type": "code",
   "execution_count": 4,
   "metadata": {
    "cell_id": "8c47b85475ce400fa388b86902d8ae32",
    "deepnote_cell_type": "code",
    "deepnote_to_be_reexecuted": false,
    "execution_millis": 2,
    "execution_start": 1687557219735,
    "source_hash": "d4cc0a4f"
   },
   "outputs": [],
   "source": [
    "import requests\n",
    "import json\n",
    "import pandas as pd"
   ]
  },
  {
   "cell_type": "code",
   "execution_count": 5,
   "metadata": {
    "cell_id": "0d88e6c188074b29bfd8ce2e63b5edb8",
    "deepnote_cell_type": "code",
    "deepnote_to_be_reexecuted": false,
    "execution_millis": 265,
    "execution_start": 1687557220922,
    "source_hash": "5c367a92"
   },
   "outputs": [],
   "source": [
    "df = pd.read_csv('main_df.csv')"
   ]
  },
  {
   "cell_type": "code",
   "execution_count": 6,
   "metadata": {
    "cell_id": "b6eed18872d74c81966aa60dd009b23f",
    "deepnote_cell_type": "code",
    "deepnote_to_be_reexecuted": false,
    "execution_millis": 105,
    "execution_start": 1687557257885,
    "source_hash": "c085b6ba"
   },
   "outputs": [
    {
     "data": {
      "application/vnd.deepnote.dataframe.v3+json": {
       "column_count": 18,
       "columns": [
        {
         "dtype": "int64",
         "name": "Unnamed: 0",
         "stats": {
          "histogram": [
           {
            "bin_end": 0.4,
            "bin_start": 0,
            "count": 1
           },
           {
            "bin_end": 0.8,
            "bin_start": 0.4,
            "count": 0
           },
           {
            "bin_end": 1.2000000000000002,
            "bin_start": 0.8,
            "count": 1
           },
           {
            "bin_end": 1.6,
            "bin_start": 1.2000000000000002,
            "count": 0
           },
           {
            "bin_end": 2,
            "bin_start": 1.6,
            "count": 0
           },
           {
            "bin_end": 2.4000000000000004,
            "bin_start": 2,
            "count": 1
           },
           {
            "bin_end": 2.8000000000000003,
            "bin_start": 2.4000000000000004,
            "count": 0
           },
           {
            "bin_end": 3.2,
            "bin_start": 2.8000000000000003,
            "count": 1
           },
           {
            "bin_end": 3.6,
            "bin_start": 3.2,
            "count": 0
           },
           {
            "bin_end": 4,
            "bin_start": 3.6,
            "count": 1
           }
          ],
          "max": "4",
          "min": "0",
          "nan_count": 0,
          "unique_count": 5
         }
        },
        {
         "dtype": "int64",
         "name": "level_0",
         "stats": {
          "histogram": [
           {
            "bin_end": 2.1,
            "bin_start": 1,
            "count": 1
           },
           {
            "bin_end": 3.2,
            "bin_start": 2.1,
            "count": 0
           },
           {
            "bin_end": 4.300000000000001,
            "bin_start": 3.2,
            "count": 0
           },
           {
            "bin_end": 5.4,
            "bin_start": 4.300000000000001,
            "count": 1
           },
           {
            "bin_end": 6.5,
            "bin_start": 5.4,
            "count": 0
           },
           {
            "bin_end": 7.6000000000000005,
            "bin_start": 6.5,
            "count": 0
           },
           {
            "bin_end": 8.700000000000001,
            "bin_start": 7.6000000000000005,
            "count": 0
           },
           {
            "bin_end": 9.8,
            "bin_start": 8.700000000000001,
            "count": 1
           },
           {
            "bin_end": 10.9,
            "bin_start": 9.8,
            "count": 1
           },
           {
            "bin_end": 12,
            "bin_start": 10.9,
            "count": 1
           }
          ],
          "max": "12",
          "min": "1",
          "nan_count": 0,
          "unique_count": 5
         }
        },
        {
         "dtype": "int64",
         "name": "index",
         "stats": {
          "histogram": [
           {
            "bin_end": 2.1,
            "bin_start": 1,
            "count": 1
           },
           {
            "bin_end": 3.2,
            "bin_start": 2.1,
            "count": 0
           },
           {
            "bin_end": 4.300000000000001,
            "bin_start": 3.2,
            "count": 0
           },
           {
            "bin_end": 5.4,
            "bin_start": 4.300000000000001,
            "count": 1
           },
           {
            "bin_end": 6.5,
            "bin_start": 5.4,
            "count": 0
           },
           {
            "bin_end": 7.6000000000000005,
            "bin_start": 6.5,
            "count": 0
           },
           {
            "bin_end": 8.700000000000001,
            "bin_start": 7.6000000000000005,
            "count": 0
           },
           {
            "bin_end": 9.8,
            "bin_start": 8.700000000000001,
            "count": 1
           },
           {
            "bin_end": 10.9,
            "bin_start": 9.8,
            "count": 1
           },
           {
            "bin_end": 12,
            "bin_start": 10.9,
            "count": 1
           }
          ],
          "max": "12",
          "min": "1",
          "nan_count": 0,
          "unique_count": 5
         }
        },
        {
         "dtype": "int64",
         "name": "Unnamed: 0.1",
         "stats": {
          "histogram": [
           {
            "bin_end": 2.1,
            "bin_start": 1,
            "count": 1
           },
           {
            "bin_end": 3.2,
            "bin_start": 2.1,
            "count": 0
           },
           {
            "bin_end": 4.300000000000001,
            "bin_start": 3.2,
            "count": 0
           },
           {
            "bin_end": 5.4,
            "bin_start": 4.300000000000001,
            "count": 1
           },
           {
            "bin_end": 6.5,
            "bin_start": 5.4,
            "count": 0
           },
           {
            "bin_end": 7.6000000000000005,
            "bin_start": 6.5,
            "count": 0
           },
           {
            "bin_end": 8.700000000000001,
            "bin_start": 7.6000000000000005,
            "count": 0
           },
           {
            "bin_end": 9.8,
            "bin_start": 8.700000000000001,
            "count": 1
           },
           {
            "bin_end": 10.9,
            "bin_start": 9.8,
            "count": 1
           },
           {
            "bin_end": 12,
            "bin_start": 10.9,
            "count": 1
           }
          ],
          "max": "12",
          "min": "1",
          "nan_count": 0,
          "unique_count": 5
         }
        },
        {
         "dtype": "int64",
         "name": "id",
         "stats": {
          "histogram": [
           {
            "bin_end": 17985004007994742,
            "bin_start": 17982058046476888,
            "count": 1
           },
           {
            "bin_end": 17987949969512596,
            "bin_start": 17985004007994742,
            "count": 0
           },
           {
            "bin_end": 17990895931030450,
            "bin_start": 17987949969512596,
            "count": 0
           },
           {
            "bin_end": 17993841892548304,
            "bin_start": 17990895931030450,
            "count": 1
           },
           {
            "bin_end": 17996787854066158,
            "bin_start": 17993841892548304,
            "count": 0
           },
           {
            "bin_end": 17999733815584012,
            "bin_start": 17996787854066158,
            "count": 0
           },
           {
            "bin_end": 18002679777101866,
            "bin_start": 17999733815584012,
            "count": 0
           },
           {
            "bin_end": 18005625738619720,
            "bin_start": 18002679777101866,
            "count": 1
           },
           {
            "bin_end": 18008571700137574,
            "bin_start": 18005625738619720,
            "count": 0
           },
           {
            "bin_end": 18011517661655428,
            "bin_start": 18008571700137574,
            "count": 2
           }
          ],
          "max": "18011517661655428",
          "min": "17982058046476888",
          "nan_count": 0,
          "unique_count": 5
         }
        },
        {
         "dtype": "object",
         "name": "permalink",
         "stats": {
          "categories": [
           {
            "count": 1,
            "name": "https://www.instagram.com/p/CtWQW2WvQqA/"
           },
           {
            "count": 1,
            "name": "https://www.instagram.com/tv/CtWQRtJu02n/"
           },
           {
            "count": 3,
            "name": "3 others"
           }
          ],
          "nan_count": 0,
          "unique_count": 5
         }
        },
        {
         "dtype": "float64",
         "name": "comments_count",
         "stats": {
          "histogram": [
           {
            "bin_end": 0.7,
            "bin_start": 0,
            "count": 3
           },
           {
            "bin_end": 1.4,
            "bin_start": 0.7,
            "count": 1
           },
           {
            "bin_end": 2.0999999999999996,
            "bin_start": 1.4,
            "count": 0
           },
           {
            "bin_end": 2.8,
            "bin_start": 2.0999999999999996,
            "count": 0
           },
           {
            "bin_end": 3.5,
            "bin_start": 2.8,
            "count": 0
           },
           {
            "bin_end": 4.199999999999999,
            "bin_start": 3.5,
            "count": 0
           },
           {
            "bin_end": 4.8999999999999995,
            "bin_start": 4.199999999999999,
            "count": 0
           },
           {
            "bin_end": 5.6,
            "bin_start": 4.8999999999999995,
            "count": 0
           },
           {
            "bin_end": 6.3,
            "bin_start": 5.6,
            "count": 0
           },
           {
            "bin_end": 7,
            "bin_start": 6.3,
            "count": 1
           }
          ],
          "max": "7.0",
          "min": "0.0",
          "nan_count": 0,
          "unique_count": 3
         }
        },
        {
         "dtype": "float64",
         "name": "like_count",
         "stats": {
          "histogram": [
           {
            "bin_end": 16.4,
            "bin_start": 0,
            "count": 3
           },
           {
            "bin_end": 32.8,
            "bin_start": 16.4,
            "count": 1
           },
           {
            "bin_end": 49.199999999999996,
            "bin_start": 32.8,
            "count": 0
           },
           {
            "bin_end": 65.6,
            "bin_start": 49.199999999999996,
            "count": 0
           },
           {
            "bin_end": 82,
            "bin_start": 65.6,
            "count": 0
           },
           {
            "bin_end": 98.39999999999999,
            "bin_start": 82,
            "count": 0
           },
           {
            "bin_end": 114.79999999999998,
            "bin_start": 98.39999999999999,
            "count": 0
           },
           {
            "bin_end": 131.2,
            "bin_start": 114.79999999999998,
            "count": 0
           },
           {
            "bin_end": 147.6,
            "bin_start": 131.2,
            "count": 0
           },
           {
            "bin_end": 164,
            "bin_start": 147.6,
            "count": 1
           }
          ],
          "max": "164.0",
          "min": "0.0",
          "nan_count": 0,
          "unique_count": 4
         }
        },
        {
         "dtype": "object",
         "name": "media_type",
         "stats": {
          "categories": [
           {
            "count": 3,
            "name": "VIDEO"
           },
           {
            "count": 1,
            "name": "IMAGE"
           },
           {
            "count": 1,
            "name": "CAROUSEL_ALBUM"
           }
          ],
          "nan_count": 0,
          "unique_count": 3
         }
        },
        {
         "dtype": "object",
         "name": "media_url",
         "stats": {
          "categories": [
           {
            "count": 1,
            "name": "https://scontent-iad3-1.cdninstagram.com/v/t51.29350-15/352568664_613323404092924_7273262721186526319_n.jpg?_nc_cat=101&ccb=1-7&_nc_sid=8ae9d6&_nc_ohc=AlSJCj7kqnwAX9VV8uw&_nc_ht=scontent-iad3-1.cdninstagram.com&edm=AEoDcc0EAAAA&oh=00_AfAjyBPvnRwx80tS4f2d5LHfnssvwbIzkGHL-UUR1tG_FA&oe=648B3D57"
           },
           {
            "count": 3,
            "name": "3 others"
           },
           {
            "count": 1,
            "name": "Missing"
           }
          ],
          "nan_count": 1,
          "unique_count": 4
         }
        },
        {
         "dtype": "object",
         "name": "timestamp",
         "stats": {
          "categories": [
           {
            "count": 2,
            "name": "2023-06-11T11:03:25+0000"
           },
           {
            "count": 1,
            "name": "2023-06-11T11:04:26+0000"
           },
           {
            "count": 2,
            "name": "2 others"
           }
          ],
          "nan_count": 0,
          "unique_count": 4
         }
        },
        {
         "dtype": "object",
         "name": "caption",
         "stats": {
          "categories": [
           {
            "count": 1,
            "name": "Pacific Joint Space Facility lunarcor_ sister company is pleased to announce its first GEO and Lunar Orbital Insertion Contract with the Greek based company, Lunar Cargo PC, for the delivery of Orbiting Fuel Stations to both GEO and Lunar Orbits, scheduled for delivery in late 2028, depending on circumstances and timelines. Thermal Nuclear Propulsion will be our choice of technology for Lunar and Deep Spaceflight. This technology is consistent with applicable U.S. Treaties such as the Artemis Accords, It is over 100% faster and 400% more load capacity than the best chemical rocket, which can only coast to its destination. Whereas, nuclear thermal propulsion spacecraft’s orbital and deep-space maneuverabilities include both acceleration & deceleration on command. Fuel Consumption Analogy—profoundly, some 85% of the weight of a chemical-rocket is fuel. Whereas, the weight of the fuel, for Nuclear Thermal Propulsion spacecraft, is quite de minimis, and it's free [i.e., the fuel is a national energy resource (US Atomic Energy Act of 1954)—and has been utilized in naval vessels since 1954 with no nonproliferation issues.​ We have already been in contact with the Patent owners to secure Licensing of this Technology and Discussions are ongoing, Lunarcor and Moody Active Denial Space Systems who will also play a role in this venture along with Antares Aerospace Mx 🇦🇺🇦🇺🇦🇺 #pacificjointspacefacility #johnmoody #competition #spacex #elonmusk #entrepreneur #business #investment #space #news #australianspaceagency #royalaustralianairforce #royalaustraliannavy #australiangovernment #australia #queensland #australiabusiness #queenslandbusinesses #gilmourspacetechnologies #rockhamptonbusiness #rockhamptonsmallbusiness #rockhampton #sydneybusiness #melbournebusiness #adelaide #adelaidebusiness #isro #indiangovernment #nasa #blueorigin"
           },
           {
            "count": 1,
            "name": "#news Neil Oliver: \"I say they're lying\"."
           },
           {
            "count": 3,
            "name": "3 others"
           }
          ],
          "nan_count": 0,
          "unique_count": 5
         }
        },
        {
         "dtype": "int64",
         "name": "is_fake",
         "stats": {
          "histogram": [
           {
            "bin_end": -0.4,
            "bin_start": -0.5,
            "count": 0
           },
           {
            "bin_end": -0.3,
            "bin_start": -0.4,
            "count": 0
           },
           {
            "bin_end": -0.19999999999999996,
            "bin_start": -0.3,
            "count": 0
           },
           {
            "bin_end": -0.09999999999999998,
            "bin_start": -0.19999999999999996,
            "count": 0
           },
           {
            "bin_end": 0,
            "bin_start": -0.09999999999999998,
            "count": 0
           },
           {
            "bin_end": 0.10000000000000009,
            "bin_start": 0,
            "count": 5
           },
           {
            "bin_end": 0.20000000000000007,
            "bin_start": 0.10000000000000009,
            "count": 0
           },
           {
            "bin_end": 0.30000000000000004,
            "bin_start": 0.20000000000000007,
            "count": 0
           },
           {
            "bin_end": 0.4,
            "bin_start": 0.30000000000000004,
            "count": 0
           },
           {
            "bin_end": 0.5,
            "bin_start": 0.4,
            "count": 0
           }
          ],
          "max": "0",
          "min": "0",
          "nan_count": 0,
          "unique_count": 1
         }
        },
        {
         "dtype": "object",
         "name": "actual_text",
         "stats": {
          "categories": [
           {
            "count": 1,
            "name": "Pacific Joint Space Facility lunarcor_ sister company is pleased to announce its first GEO and Lunar Orbital Insertion Contract with the Greek based company, Lunar Cargo PC, for the delivery of Orbiting Fuel Stations to both GEO and Lunar Orbits, scheduled for delivery in late 2028, depending on circumstances and timelines. Thermal Nuclear Propulsion will be our choice of technology for Lunar and Deep Spaceflight. This technology is consistent with applicable U.S. Treaties such as the Artemis Accords, It is over 100% faster and 400% more load capacity than the best chemical rocket, which can only coast to its destination. Whereas, nuclear thermal propulsion spacecraft’s orbital and deep-space maneuverabilities include both acceleration & deceleration on command. Fuel Consumption Analogy—profoundly, some 85% of the weight of a chemical-rocket is fuel. Whereas, the weight of the fuel, for Nuclear Thermal Propulsion spacecraft, is quite de minimis, and it's free [i.e., the fuel is a national energy resource (US Atomic Energy Act of 1954)—and has been utilized in naval vessels since 1954 with no nonproliferation issues.​ We have already been in contact with the Patent owners to secure Licensing of this Technology and Discussions are ongoing, Lunarcor and Moody Active Denial Space Systems who will also play a role in this venture along with Antares Aerospace Mx 🇦🇺🇦🇺🇦🇺"
           },
           {
            "count": 1,
            "name": "Neil Oliver: \"I say they're lying\"."
           },
           {
            "count": 3,
            "name": "3 others"
           }
          ],
          "nan_count": 0,
          "unique_count": 5
         }
        },
        {
         "dtype": "object",
         "name": "hashtags",
         "stats": {
          "categories": [
           {
            "count": 1,
            "name": "#pacificjointspacefacility #johnmoody #competition #spacex #elonmusk #entrepreneur #business #investment #space #news #australianspaceagency #royalaustralianairforce #royalaustraliannavy #australiangovernment #australia #queensland #australiabusiness #queenslandbusinesses #gilmourspacetechnologies #rockhamptonbusiness #rockhamptonsmallbusiness #rockhampton #sydneybusiness #melbournebusiness #adelaide #adelaidebusiness #isro #indiangovernment #nasa #blueorigin"
           },
           {
            "count": 1,
            "name": "#news"
           },
           {
            "count": 3,
            "name": "3 others"
           }
          ],
          "nan_count": 0,
          "unique_count": 5
         }
        },
        {
         "dtype": "int64",
         "name": "is_english",
         "stats": {
          "histogram": [
           {
            "bin_end": 0.6,
            "bin_start": 0.5,
            "count": 0
           },
           {
            "bin_end": 0.7,
            "bin_start": 0.6,
            "count": 0
           },
           {
            "bin_end": 0.8,
            "bin_start": 0.7,
            "count": 0
           },
           {
            "bin_end": 0.9,
            "bin_start": 0.8,
            "count": 0
           },
           {
            "bin_end": 1,
            "bin_start": 0.9,
            "count": 0
           },
           {
            "bin_end": 1.1,
            "bin_start": 1,
            "count": 5
           },
           {
            "bin_end": 1.2000000000000002,
            "bin_start": 1.1,
            "count": 0
           },
           {
            "bin_end": 1.3,
            "bin_start": 1.2000000000000002,
            "count": 0
           },
           {
            "bin_end": 1.4,
            "bin_start": 1.3,
            "count": 0
           },
           {
            "bin_end": 1.5,
            "bin_start": 1.4,
            "count": 0
           }
          ],
          "max": "1",
          "min": "1",
          "nan_count": 0,
          "unique_count": 1
         }
        },
        {
         "dtype": "object",
         "name": "english_caption",
         "stats": {
          "categories": [
           {
            "count": 1,
            "name": " Pacific Joint Space Facility lunarcor_ sister company is pleased to announce its first GEO and Lunar Orbital Insertion Contract with the Greek based company, Lunar Cargo PC, for the delivery of Orbiting Fuel Stations to both GEO and Lunar Orbits, scheduled for delivery in late 2028, depending on circumstances and Thermal Nuclear Propulsion will be our choice of technology for Lunar and Deep This technology is consistent with applicable Treaties such as the Artemis Accords, It is over faster and more load capacity than the best chemical rocket, which can only coast to its Whereas, nuclear thermal propulsion orbital and maneuverabilities include both acceleration deceleration on Fuel Consumption some of the weight of a is Whereas, the weight of the fuel, for Nuclear Thermal Propulsion spacecraft, is quite de minimis, and free the fuel is a national energy resource Atomic Energy Act of has been utilized in naval vessels since 1954 with no nonproliferation We have already been in contact with the Patent owners to secure Licensing of this Technology and Discussions are ongoing, Lunarcor and Moody Active Denial Space Systems who will also play a role in this venture along with Antares Aerospace Mx"
           },
           {
            "count": 1,
            "name": " Neil say"
           },
           {
            "count": 3,
            "name": "3 others"
           }
          ],
          "nan_count": 0,
          "unique_count": 5
         }
        },
        {
         "dtype": "object",
         "name": "preprocessed_caption",
         "stats": {
          "categories": [
           {
            "count": 1,
            "name": "pacific joint space facility lunarcor_ sister company pleased announce first geo lunar orbital insertion contract greek based company , lunar cargo pc , delivery orbiting fuel station geo lunar orbit , scheduled delivery late 2028 , depending circumstance thermal nuclear propulsion choice technology lunar deep technology consistent applicable treaty artemis accord , faster load capacity best chemical rocket , coast whereas , nuclear thermal propulsion orbital maneuverability include acceleration deceleration fuel consumption weight whereas , weight fuel , nuclear thermal propulsion spacecraft , quite de minimis , free fuel national energy resource atomic energy act utilized naval vessel since 1954 nonproliferation already contact patent owner secure licensing technology discussion ongoing , lunarcor moody active denial space system also play role venture along antares aerospace mx"
           },
           {
            "count": 1,
            "name": "neil say"
           },
           {
            "count": 3,
            "name": "3 others"
           }
          ],
          "nan_count": 0,
          "unique_count": 5
         }
        },
        {
         "dtype": "int64",
         "name": "_deepnote_index_column"
        }
       ],
       "row_count": 5,
       "rows": [
        {
         "Unnamed: 0": 0,
         "Unnamed: 0.1": 1,
         "_deepnote_index_column": 0,
         "actual_text": "Pacific Joint Space Facility lunarcor_ sister company is pleased to announce its first GEO and Lunar Orbital Insertion Contract with the Greek based company, Lunar Cargo PC, for the delivery of Orbiting Fuel Stations to both GEO and Lunar Orbits, scheduled for delivery in late 2028, depending on circumstances and timelines. Thermal Nuclear Propulsion will be our choice of technology for Lunar and Deep Spaceflight. This technology is consistent with applicable U.S. Treaties such as the Artemis Accords, It is over 100% faster and 400% more load capacity than the best chemical rocket, which can only coast to its destination. Whereas, nuclear thermal propulsion spacecraft’s orbital and deep-space maneuverabilities include both acceleration & deceleration on command. Fuel Consumption Analogy—profoundly, some 85% of the weight of a chemical-rocket is fuel. Whereas, the weight of the fuel, for Nuclear Thermal Propulsion spacecraft, is quite de minimis, and it's free [i.e., the fuel is a nati…",
         "caption": "Pacific Joint Space Facility lunarcor_ sister company is pleased to announce its first GEO and Lunar Orbital Insertion Contract with the Greek based company, Lunar Cargo PC, for the delivery of Orbiting Fuel Stations to both GEO and Lunar Orbits, scheduled for delivery in late 2028, depending on circumstances and timelines. Thermal Nuclear Propulsion will be our choice of technology for Lunar and Deep Spaceflight. This technology is consistent with applicable U.S. Treaties such as the Artemis Accords, It is over 100% faster and 400% more load capacity than the best chemical rocket, which can only coast to its destination. Whereas, nuclear thermal propulsion spacecraft’s orbital and deep-space maneuverabilities include both acceleration & deceleration on command. Fuel Consumption Analogy—profoundly, some 85% of the weight of a chemical-rocket is fuel. Whereas, the weight of the fuel, for Nuclear Thermal Propulsion spacecraft, is quite de minimis, and it's free [i.e., the fuel is a nati…",
         "comments_count": 1,
         "english_caption": " Pacific Joint Space Facility lunarcor_ sister company is pleased to announce its first GEO and Lunar Orbital Insertion Contract with the Greek based company, Lunar Cargo PC, for the delivery of Orbiting Fuel Stations to both GEO and Lunar Orbits, scheduled for delivery in late 2028, depending on circumstances and Thermal Nuclear Propulsion will be our choice of technology for Lunar and Deep This technology is consistent with applicable Treaties such as the Artemis Accords, It is over faster and more load capacity than the best chemical rocket, which can only coast to its Whereas, nuclear thermal propulsion orbital and maneuverabilities include both acceleration deceleration on Fuel Consumption some of the weight of a is Whereas, the weight of the fuel, for Nuclear Thermal Propulsion spacecraft, is quite de minimis, and free the fuel is a national energy resource Atomic Energy Act of has been utilized in naval vessels since 1954 with no nonproliferation We have already been in contact…",
         "hashtags": "#pacificjointspacefacility #johnmoody #competition #spacex #elonmusk #entrepreneur #business #investment #space #news #australianspaceagency #royalaustralianairforce #royalaustraliannavy #australiangovernment #australia #queensland #australiabusiness #queenslandbusinesses #gilmourspacetechnologies #rockhamptonbusiness #rockhamptonsmallbusiness #rockhampton #sydneybusiness #melbournebusiness #adelaide #adelaidebusiness #isro #indiangovernment #nasa #blueorigin",
         "id": 17993509183855560,
         "index": 1,
         "is_english": 1,
         "is_fake": 0,
         "level_0": 1,
         "like_count": 8,
         "media_type": "IMAGE",
         "media_url": "https://scontent-iad3-1.cdninstagram.com/v/t51.29350-15/352568664_613323404092924_7273262721186526319_n.jpg?_nc_cat=101&ccb=1-7&_nc_sid=8ae9d6&_nc_ohc=AlSJCj7kqnwAX9VV8uw&_nc_ht=scontent-iad3-1.cdninstagram.com&edm=AEoDcc0EAAAA&oh=00_AfAjyBPvnRwx80tS4f2d5LHfnssvwbIzkGHL-UUR1tG_FA&oe=648B3D57",
         "permalink": "https://www.instagram.com/p/CtWQW2WvQqA/",
         "preprocessed_caption": "pacific joint space facility lunarcor_ sister company pleased announce first geo lunar orbital insertion contract greek based company , lunar cargo pc , delivery orbiting fuel station geo lunar orbit , scheduled delivery late 2028 , depending circumstance thermal nuclear propulsion choice technology lunar deep technology consistent applicable treaty artemis accord , faster load capacity best chemical rocket , coast whereas , nuclear thermal propulsion orbital maneuverability include acceleration deceleration fuel consumption weight whereas , weight fuel , nuclear thermal propulsion spacecraft , quite de minimis , free fuel national energy resource atomic energy act utilized naval vessel since 1954 nonproliferation already contact patent owner secure licensing technology discussion ongoing , lunarcor moody active denial space system also play role venture along antares aerospace mx",
         "timestamp": "2023-06-11T11:04:26+0000"
        },
        {
         "Unnamed: 0": 1,
         "Unnamed: 0.1": 5,
         "_deepnote_index_column": 1,
         "actual_text": "Neil Oliver: \"I say they're lying\".",
         "caption": "#news Neil Oliver: \"I say they're lying\".",
         "comments_count": 0,
         "english_caption": " Neil say",
         "hashtags": "#news",
         "id": 18005295199826312,
         "index": 5,
         "is_english": 1,
         "is_fake": 0,
         "level_0": 5,
         "like_count": 0,
         "media_type": "VIDEO",
         "media_url": "https://video-iad3-2.cdninstagram.com/v/t42.1790-2/352210289_794760735567108_5282471486579103340_n.mp4?_nc_cat=106&ccb=1-7&_nc_sid=8ae9d6&_nc_ohc=5gwm1gRXRiIAX83Z1hO&_nc_oc=AQlZ8K9u9xZgLzfmYJEHQcLXwpaYbpkUYPBlp023AQPA7ddZgK5s_EQL3S80qKA_FfU&_nc_ht=video-iad3-2.cdninstagram.com&edm=AEoDcc0EAAAA&oh=00_AfA8hmWEQIs84Sr8Yt3PnVNc6EVGnoihNGTjUZoSas1ckA&oe=648A4799",
         "permalink": "https://www.instagram.com/tv/CtWQRtJu02n/",
         "preprocessed_caption": "neil say",
         "timestamp": "2023-06-11T11:03:46+0000"
        },
        {
         "Unnamed: 0": 2,
         "Unnamed: 0.1": 9,
         "_deepnote_index_column": 2,
         "actual_text": "What’s your thoughts on Chatgpt ?",
         "caption": "What’s your thoughts on Chatgpt ?\n#chatgpt #news #india #m&m #new #thoughts",
         "comments_count": 0,
         "english_caption": " your thoughts on Chatgpt",
         "hashtags": "#chatgpt #news #india #m&m #new #thoughts",
         "id": 18011517661655428,
         "index": 9,
         "is_english": 1,
         "is_fake": 0,
         "level_0": 9,
         "like_count": 23,
         "media_type": "VIDEO",
         "media_url": "https://scontent-iad3-1.cdninstagram.com/o1/v/t16/f1/m82/7D4D774CB0051BA4215C29B8AAA274A3_video_dashinit.mp4?efg=eyJ2ZW5jb2RlX3RhZyI6InZ0c192b2RfdXJsZ2VuLjcyMC5jbGlwcyJ9&_nc_ht=scontent-iad3-1.cdninstagram.com&_nc_cat=109&vs=578326824338237_836413841&_nc_vs=HBksFQIYT2lnX3hwdl9yZWVsc19wZXJtYW5lbnRfcHJvZC83RDRENzc0Q0IwMDUxQkE0MjE1QzI5QjhBQUEyNzRBM192aWRlb19kYXNoaW5pdC5tcDQVAALIAQAVABgkR0MteER4WHdPWWJZS1JFQ0FNNnpIbUtpMmM4T2JxX0VBQUFGFQICyAEAKAAYABsBiAd1c2Vfb2lsATEVAAAm9o%2FywsyO3j8VAigCQzMsF0BXDDlYEGJOGBJkYXNoX2Jhc2VsaW5lXzFfdjERAHUAAA%3D%3D&ccb=9-4&oh=00_AfBgrm3FgihtWQhfGVHq92Yly9YX-yZRLgqM2f6Lp82BVw&oe=6487A295&_nc_sid=c07a80&_nc_rid=3a69ca10e6",
         "permalink": "https://www.instagram.com/reel/CtWOR7gAalj/",
         "preprocessed_caption": "thought chatgpt",
         "timestamp": "2023-06-11T11:03:25+0000"
        },
        {
         "Unnamed: 0": 3,
         "Unnamed: 0.1": 10,
         "_deepnote_index_column": 3,
         "actual_text": "Follow nerdrudransh for more fax 🤨",
         "caption": "Follow nerdrudransh for more fax 🤨\n\n#adipurush #movie #cinema #bollywood #actor #prabhas #kritisanon #ram #ramsita #ramanyan #movies #cinemanews #news #reel #trending #boxoffice #trailer #songs #hindi #hindisongs #bhajan #hindicinema #ramsiyaram #latest #sita #adipurushmovie #moviescenes #vfx #teaser",
         "comments_count": 7,
         "english_caption": " Follow nerdrudransh for more fax",
         "hashtags": "#adipurush #movie #cinema #bollywood #actor #prabhas #kritisanon #ram #ramsita #ramanyan #movies #cinemanews #news #reel #trending #boxoffice #trailer #songs #hindi #hindisongs #bhajan #hindicinema #ramsiyaram #latest #sita #adipurushmovie #moviescenes #vfx #teaser",
         "id": 18009993862606500,
         "index": 10,
         "is_english": 1,
         "is_fake": 0,
         "level_0": 10,
         "like_count": 164,
         "media_type": "VIDEO",
         "media_url": "https://scontent-iad3-1.cdninstagram.com/o1/v/t16/f1/m82/2F498720C01EF5EE5A5310F3FFB62197_video_dashinit.mp4?efg=eyJ2ZW5jb2RlX3RhZyI6InZ0c192b2RfdXJsZ2VuLjcyMC5jbGlwcyJ9&_nc_ht=scontent-iad3-1.cdninstagram.com&_nc_cat=110&vs=216505967884464_3655942336&_nc_vs=HBksFQIYT2lnX3hwdl9yZWVsc19wZXJtYW5lbnRfcHJvZC8yRjQ5ODcyMEMwMUVGNUVFNUE1MzEwRjNGRkI2MjE5N192aWRlb19kYXNoaW5pdC5tcDQVAALIAQAVABgkR0hwckZoVTZHblhreXFZRUFQSXdyUTVPcm1wbGJxX0VBQUFGFQICyAEAKAAYABsBiAd1c2Vfb2lsATEVAAAmqtPlltyt9j8VAigCQzMsF0BOQYk3S8aoGBJkYXNoX2Jhc2VsaW5lXzFfdjERAHUAAA%3D%3D&ccb=9-4&oh=00_AfAHIaEv36CohpgcH9UMY4GjhDsbgu7n-JMCdMz_Qys7Gw&oe=64875EBA&_nc_sid=c07a80&_nc_rid=a4fc8e79e6",
         "permalink": "https://www.instagram.com/reel/CtWQI5-BcDn/",
         "preprocessed_caption": "follow nerdrudransh fax",
         "timestamp": "2023-06-11T11:03:25+0000"
        },
        {
         "Unnamed: 0": 4,
         "Unnamed: 0.1": 12,
         "_deepnote_index_column": 4,
         "actual_text": "Follow more new update . . . . . . .",
         "caption": "Follow more new update\n.\n.\n.\n.\n.\n.\n.\n#currentaffair #gk #ssc #upsc #ssccgl\n\n#currentaffairsquiz\n\n#currentaffairs76 #currentaffairsinhindi\n\n#generalknowledge #ips #india #facts #exams\n\n#currentaffairslatest #hindifacts #generalknowledgeindia #upscmotivation #ias #sscchsl #upscexam #mppsc #news #gkindia #upscaspirants\n\n#hindi #gpsc #current #indiagk",
         "comments_count": 0,
         "english_caption": " Follow more new update",
         "hashtags": "#currentaffair #gk #ssc #upsc #ssccgl #currentaffairsquiz #currentaffairs76 #currentaffairsinhindi #generalknowledge #ips #india #facts #exams #currentaffairslatest #hindifacts #generalknowledgeindia #upscmotivation #ias #sscchsl #upscexam #mppsc #news #gkindia #upscaspirants #hindi #gpsc #current #indiagk",
         "id": 17982058046476888,
         "index": 12,
         "is_english": 1,
         "is_fake": 0,
         "level_0": 12,
         "like_count": 0,
         "media_type": "CAROUSEL_ALBUM",
         "media_url": "nan",
         "permalink": "https://www.instagram.com/p/CtWQNsYSZ6w/",
         "preprocessed_caption": "follow new update",
         "timestamp": "2023-06-11T11:03:11+0000"
        }
       ]
      },
      "text/html": [
       "<div>\n",
       "<style scoped>\n",
       "    .dataframe tbody tr th:only-of-type {\n",
       "        vertical-align: middle;\n",
       "    }\n",
       "\n",
       "    .dataframe tbody tr th {\n",
       "        vertical-align: top;\n",
       "    }\n",
       "\n",
       "    .dataframe thead th {\n",
       "        text-align: right;\n",
       "    }\n",
       "</style>\n",
       "<table border=\"1\" class=\"dataframe\">\n",
       "  <thead>\n",
       "    <tr style=\"text-align: right;\">\n",
       "      <th></th>\n",
       "      <th>Unnamed: 0</th>\n",
       "      <th>level_0</th>\n",
       "      <th>index</th>\n",
       "      <th>Unnamed: 0.1</th>\n",
       "      <th>id</th>\n",
       "      <th>permalink</th>\n",
       "      <th>comments_count</th>\n",
       "      <th>like_count</th>\n",
       "      <th>media_type</th>\n",
       "      <th>media_url</th>\n",
       "      <th>timestamp</th>\n",
       "      <th>caption</th>\n",
       "      <th>is_fake</th>\n",
       "      <th>actual_text</th>\n",
       "      <th>hashtags</th>\n",
       "      <th>is_english</th>\n",
       "      <th>english_caption</th>\n",
       "      <th>preprocessed_caption</th>\n",
       "    </tr>\n",
       "  </thead>\n",
       "  <tbody>\n",
       "    <tr>\n",
       "      <th>0</th>\n",
       "      <td>0</td>\n",
       "      <td>1</td>\n",
       "      <td>1</td>\n",
       "      <td>1</td>\n",
       "      <td>17993509183855559</td>\n",
       "      <td>https://www.instagram.com/p/CtWQW2WvQqA/</td>\n",
       "      <td>1.0</td>\n",
       "      <td>8.0</td>\n",
       "      <td>IMAGE</td>\n",
       "      <td>https://scontent-iad3-1.cdninstagram.com/v/t51...</td>\n",
       "      <td>2023-06-11T11:04:26+0000</td>\n",
       "      <td>Pacific Joint Space Facility lunarcor_ sister ...</td>\n",
       "      <td>0</td>\n",
       "      <td>Pacific Joint Space Facility lunarcor_ sister ...</td>\n",
       "      <td>#pacificjointspacefacility #johnmoody #competi...</td>\n",
       "      <td>1</td>\n",
       "      <td>Pacific Joint Space Facility lunarcor_ sister...</td>\n",
       "      <td>pacific joint space facility lunarcor_ sister ...</td>\n",
       "    </tr>\n",
       "    <tr>\n",
       "      <th>1</th>\n",
       "      <td>1</td>\n",
       "      <td>5</td>\n",
       "      <td>5</td>\n",
       "      <td>5</td>\n",
       "      <td>18005295199826313</td>\n",
       "      <td>https://www.instagram.com/tv/CtWQRtJu02n/</td>\n",
       "      <td>0.0</td>\n",
       "      <td>0.0</td>\n",
       "      <td>VIDEO</td>\n",
       "      <td>https://video-iad3-2.cdninstagram.com/v/t42.17...</td>\n",
       "      <td>2023-06-11T11:03:46+0000</td>\n",
       "      <td>#news Neil Oliver: \"I say they're lying\".</td>\n",
       "      <td>0</td>\n",
       "      <td>Neil Oliver: \"I say they're lying\".</td>\n",
       "      <td>#news</td>\n",
       "      <td>1</td>\n",
       "      <td>Neil say</td>\n",
       "      <td>neil say</td>\n",
       "    </tr>\n",
       "    <tr>\n",
       "      <th>2</th>\n",
       "      <td>2</td>\n",
       "      <td>9</td>\n",
       "      <td>9</td>\n",
       "      <td>9</td>\n",
       "      <td>18011517661655428</td>\n",
       "      <td>https://www.instagram.com/reel/CtWOR7gAalj/</td>\n",
       "      <td>0.0</td>\n",
       "      <td>23.0</td>\n",
       "      <td>VIDEO</td>\n",
       "      <td>https://scontent-iad3-1.cdninstagram.com/o1/v/...</td>\n",
       "      <td>2023-06-11T11:03:25+0000</td>\n",
       "      <td>What’s your thoughts on Chatgpt ?\\n#chatgpt #n...</td>\n",
       "      <td>0</td>\n",
       "      <td>What’s your thoughts on Chatgpt ?</td>\n",
       "      <td>#chatgpt #news #india #m&amp;m #new #thoughts</td>\n",
       "      <td>1</td>\n",
       "      <td>your thoughts on Chatgpt</td>\n",
       "      <td>thought chatgpt</td>\n",
       "    </tr>\n",
       "    <tr>\n",
       "      <th>3</th>\n",
       "      <td>3</td>\n",
       "      <td>10</td>\n",
       "      <td>10</td>\n",
       "      <td>10</td>\n",
       "      <td>18009993862606500</td>\n",
       "      <td>https://www.instagram.com/reel/CtWQI5-BcDn/</td>\n",
       "      <td>7.0</td>\n",
       "      <td>164.0</td>\n",
       "      <td>VIDEO</td>\n",
       "      <td>https://scontent-iad3-1.cdninstagram.com/o1/v/...</td>\n",
       "      <td>2023-06-11T11:03:25+0000</td>\n",
       "      <td>Follow nerdrudransh for more fax 🤨\\n\\n#adipuru...</td>\n",
       "      <td>0</td>\n",
       "      <td>Follow nerdrudransh for more fax 🤨</td>\n",
       "      <td>#adipurush #movie #cinema #bollywood #actor #p...</td>\n",
       "      <td>1</td>\n",
       "      <td>Follow nerdrudransh for more fax</td>\n",
       "      <td>follow nerdrudransh fax</td>\n",
       "    </tr>\n",
       "    <tr>\n",
       "      <th>4</th>\n",
       "      <td>4</td>\n",
       "      <td>12</td>\n",
       "      <td>12</td>\n",
       "      <td>12</td>\n",
       "      <td>17982058046476888</td>\n",
       "      <td>https://www.instagram.com/p/CtWQNsYSZ6w/</td>\n",
       "      <td>0.0</td>\n",
       "      <td>0.0</td>\n",
       "      <td>CAROUSEL_ALBUM</td>\n",
       "      <td>NaN</td>\n",
       "      <td>2023-06-11T11:03:11+0000</td>\n",
       "      <td>Follow more new update\\n.\\n.\\n.\\n.\\n.\\n.\\n.\\n#...</td>\n",
       "      <td>0</td>\n",
       "      <td>Follow more new update . . . . . . .</td>\n",
       "      <td>#currentaffair #gk #ssc #upsc #ssccgl #current...</td>\n",
       "      <td>1</td>\n",
       "      <td>Follow more new update</td>\n",
       "      <td>follow new update</td>\n",
       "    </tr>\n",
       "  </tbody>\n",
       "</table>\n",
       "</div>"
      ],
      "text/plain": [
       "   Unnamed: 0  level_0  index  Unnamed: 0.1                 id  \\\n",
       "0           0        1      1             1  17993509183855559   \n",
       "1           1        5      5             5  18005295199826313   \n",
       "2           2        9      9             9  18011517661655428   \n",
       "3           3       10     10            10  18009993862606500   \n",
       "4           4       12     12            12  17982058046476888   \n",
       "\n",
       "                                     permalink  comments_count  like_count  \\\n",
       "0     https://www.instagram.com/p/CtWQW2WvQqA/             1.0         8.0   \n",
       "1    https://www.instagram.com/tv/CtWQRtJu02n/             0.0         0.0   \n",
       "2  https://www.instagram.com/reel/CtWOR7gAalj/             0.0        23.0   \n",
       "3  https://www.instagram.com/reel/CtWQI5-BcDn/             7.0       164.0   \n",
       "4     https://www.instagram.com/p/CtWQNsYSZ6w/             0.0         0.0   \n",
       "\n",
       "       media_type                                          media_url  \\\n",
       "0           IMAGE  https://scontent-iad3-1.cdninstagram.com/v/t51...   \n",
       "1           VIDEO  https://video-iad3-2.cdninstagram.com/v/t42.17...   \n",
       "2           VIDEO  https://scontent-iad3-1.cdninstagram.com/o1/v/...   \n",
       "3           VIDEO  https://scontent-iad3-1.cdninstagram.com/o1/v/...   \n",
       "4  CAROUSEL_ALBUM                                                NaN   \n",
       "\n",
       "                  timestamp  \\\n",
       "0  2023-06-11T11:04:26+0000   \n",
       "1  2023-06-11T11:03:46+0000   \n",
       "2  2023-06-11T11:03:25+0000   \n",
       "3  2023-06-11T11:03:25+0000   \n",
       "4  2023-06-11T11:03:11+0000   \n",
       "\n",
       "                                             caption  is_fake  \\\n",
       "0  Pacific Joint Space Facility lunarcor_ sister ...        0   \n",
       "1          #news Neil Oliver: \"I say they're lying\".        0   \n",
       "2  What’s your thoughts on Chatgpt ?\\n#chatgpt #n...        0   \n",
       "3  Follow nerdrudransh for more fax 🤨\\n\\n#adipuru...        0   \n",
       "4  Follow more new update\\n.\\n.\\n.\\n.\\n.\\n.\\n.\\n#...        0   \n",
       "\n",
       "                                         actual_text  \\\n",
       "0  Pacific Joint Space Facility lunarcor_ sister ...   \n",
       "1                Neil Oliver: \"I say they're lying\".   \n",
       "2                  What’s your thoughts on Chatgpt ?   \n",
       "3                 Follow nerdrudransh for more fax 🤨   \n",
       "4               Follow more new update . . . . . . .   \n",
       "\n",
       "                                            hashtags  is_english  \\\n",
       "0  #pacificjointspacefacility #johnmoody #competi...           1   \n",
       "1                                              #news           1   \n",
       "2          #chatgpt #news #india #m&m #new #thoughts           1   \n",
       "3  #adipurush #movie #cinema #bollywood #actor #p...           1   \n",
       "4  #currentaffair #gk #ssc #upsc #ssccgl #current...           1   \n",
       "\n",
       "                                     english_caption  \\\n",
       "0   Pacific Joint Space Facility lunarcor_ sister...   \n",
       "1                                           Neil say   \n",
       "2                           your thoughts on Chatgpt   \n",
       "3                   Follow nerdrudransh for more fax   \n",
       "4                             Follow more new update   \n",
       "\n",
       "                                preprocessed_caption  \n",
       "0  pacific joint space facility lunarcor_ sister ...  \n",
       "1                                           neil say  \n",
       "2                                    thought chatgpt  \n",
       "3                            follow nerdrudransh fax  \n",
       "4                                  follow new update  "
      ]
     },
     "execution_count": 6,
     "metadata": {},
     "output_type": "execute_result"
    }
   ],
   "source": [
    "df.head()"
   ]
  },
  {
   "cell_type": "code",
   "execution_count": 2,
   "metadata": {
    "cell_id": "f0d4d7bc15794e5997960bd1edddbee7",
    "deepnote_cell_type": "code",
    "deepnote_to_be_reexecuted": false,
    "execution_millis": 2,
    "execution_start": 1687557186591,
    "source_hash": "6ff6e880"
   },
   "outputs": [],
   "source": [
    "def FactCheck(query):\n",
    "    payload = {\n",
    "    'key': 'ENTER_API_KEY',\n",
    "    'query':query\n",
    "    }\n",
    "    url ='https://factchecktools.googleapis.com/v1alpha1/claims:search'\n",
    "    response = requests.get(url,params=payload)\n",
    "    print(response)\n",
    "    if response.status_code == 200:\n",
    "        result = json.loads(response.text)\n",
    "        # Arbitrarily select 1\n",
    "        try:\n",
    "            topRating = result[\"claims\"][0]\n",
    "            # arbitrarily select top 1\n",
    "            claimReview = topRating[\"claimReview\"][0][\"textualRating\"]\n",
    "            claimVal = \"According to \" + str(topRating[\"claimReview\"][0]['publisher']['name'])+ \" that claim is \" + str(claimReview)\n",
    "            print(result)\n",
    "            return claimVal           \n",
    "        except Exception as e:\n",
    "            print(\"No claim review field found.\")\n",
    "            print(e)\n",
    "            return 0\n",
    "    else:\n",
    "        return 0"
   ]
  },
  {
   "cell_type": "code",
   "execution_count": 7,
   "metadata": {
    "cell_id": "2eca9b2d4cd944c98ac3730a02de96c3",
    "deepnote_cell_type": "code",
    "deepnote_to_be_reexecuted": false,
    "execution_millis": 2,
    "execution_start": 1687557310119,
    "source_hash": "63424b48"
   },
   "outputs": [],
   "source": [
    "df['fact_check']=\"\""
   ]
  },
  {
   "cell_type": "code",
   "execution_count": 10,
   "metadata": {
    "cell_id": "1bed1e52d4c64dfd8cbcd6f766c6aa24",
    "deepnote_cell_type": "code",
    "deepnote_to_be_reexecuted": false,
    "execution_millis": 3,
    "execution_start": 1687557356536,
    "source_hash": "cb6a4324"
   },
   "outputs": [
    {
     "name": "stdout",
     "output_type": "stream",
     "text": [
      "Unnamed: 0\n",
      "level_0\n",
      "index\n",
      "Unnamed: 0.1\n",
      "id\n",
      "permalink\n",
      "comments_count\n",
      "like_count\n",
      "media_type\n",
      "media_url\n",
      "timestamp\n",
      "caption\n",
      "is_fake\n",
      "actual_text\n",
      "hashtags\n",
      "is_english\n",
      "english_caption\n",
      "preprocessed_caption\n",
      "fact_check\n"
     ]
    }
   ],
   "source": [
    "for row in range(len(df)):\n",
    "    print(hashtags)"
   ]
  },
  {
   "cell_type": "code",
   "execution_count": null,
   "metadata": {},
   "outputs": [],
   "source": [
    "for row in range(len(df)):\n",
    "    df['fact_check'][row]=FactCheck(df['preprocessed_caption'][row])"
   ]
  },
  {
   "cell_type": "code",
   "execution_count": 12,
   "metadata": {
    "cell_id": "4fb74abc9797453fbcd2e26314e5593e",
    "deepnote_cell_type": "code",
    "deepnote_to_be_reexecuted": false,
    "execution_millis": 366,
    "execution_start": 1687561380100,
    "source_hash": "e48801c9"
   },
   "outputs": [],
   "source": [
    "save_df=df\n",
    "save_df.to_csv(\"df_with_factcheck.csv\")"
   ]
  },
  {
   "cell_type": "code",
   "execution_count": 14,
   "metadata": {
    "cell_id": "9ef49db717ed4ce997f589fc9c79a1cc",
    "deepnote_cell_type": "code",
    "deepnote_table_loading": false,
    "deepnote_table_state": {
     "filters": [],
     "pageIndex": 0,
     "pageSize": 10,
     "sortBy": []
    },
    "deepnote_to_be_reexecuted": false,
    "execution_millis": 48,
    "execution_start": 1687561565243,
    "source_hash": "f724cbc5"
   },
   "outputs": [
    {
     "data": {
      "application/vnd.deepnote.dataframe.v3+json": {
       "column_count": 18,
       "columns": [
        {
         "dtype": "int64",
         "name": "Unnamed: 0",
         "stats": {
          "histogram": [
           {
            "bin_end": 829.7,
            "bin_start": 1,
            "count": 77
           },
           {
            "bin_end": 1658.4,
            "bin_start": 829.7,
            "count": 0
           },
           {
            "bin_end": 2487.1000000000004,
            "bin_start": 1658.4,
            "count": 0
           },
           {
            "bin_end": 3315.8,
            "bin_start": 2487.1000000000004,
            "count": 0
           },
           {
            "bin_end": 4144.5,
            "bin_start": 3315.8,
            "count": 0
           },
           {
            "bin_end": 4973.200000000001,
            "bin_start": 4144.5,
            "count": 0
           },
           {
            "bin_end": 5801.900000000001,
            "bin_start": 4973.200000000001,
            "count": 0
           },
           {
            "bin_end": 6630.6,
            "bin_start": 5801.900000000001,
            "count": 0
           },
           {
            "bin_end": 7459.3,
            "bin_start": 6630.6,
            "count": 0
           },
           {
            "bin_end": 8288,
            "bin_start": 7459.3,
            "count": 1
           }
          ],
          "max": "8288",
          "min": "1",
          "nan_count": 0,
          "unique_count": 10
         }
        },
        {
         "dtype": "int64",
         "name": "level_0",
         "stats": {
          "histogram": [
           {
            "bin_end": 829.7,
            "bin_start": 1,
            "count": 77
           },
           {
            "bin_end": 1658.4,
            "bin_start": 829.7,
            "count": 0
           },
           {
            "bin_end": 2487.1000000000004,
            "bin_start": 1658.4,
            "count": 0
           },
           {
            "bin_end": 3315.8,
            "bin_start": 2487.1000000000004,
            "count": 0
           },
           {
            "bin_end": 4144.5,
            "bin_start": 3315.8,
            "count": 0
           },
           {
            "bin_end": 4973.200000000001,
            "bin_start": 4144.5,
            "count": 0
           },
           {
            "bin_end": 5801.900000000001,
            "bin_start": 4973.200000000001,
            "count": 0
           },
           {
            "bin_end": 6630.6,
            "bin_start": 5801.900000000001,
            "count": 0
           },
           {
            "bin_end": 7459.3,
            "bin_start": 6630.6,
            "count": 0
           },
           {
            "bin_end": 8288,
            "bin_start": 7459.3,
            "count": 1
           }
          ],
          "max": "8288",
          "min": "1",
          "nan_count": 0,
          "unique_count": 10
         }
        },
        {
         "dtype": "int64",
         "name": "index",
         "stats": {
          "histogram": [
           {
            "bin_end": 829.7,
            "bin_start": 1,
            "count": 77
           },
           {
            "bin_end": 1658.4,
            "bin_start": 829.7,
            "count": 0
           },
           {
            "bin_end": 2487.1000000000004,
            "bin_start": 1658.4,
            "count": 0
           },
           {
            "bin_end": 3315.8,
            "bin_start": 2487.1000000000004,
            "count": 0
           },
           {
            "bin_end": 4144.5,
            "bin_start": 3315.8,
            "count": 0
           },
           {
            "bin_end": 4973.200000000001,
            "bin_start": 4144.5,
            "count": 0
           },
           {
            "bin_end": 5801.900000000001,
            "bin_start": 4973.200000000001,
            "count": 0
           },
           {
            "bin_end": 6630.6,
            "bin_start": 5801.900000000001,
            "count": 0
           },
           {
            "bin_end": 7459.3,
            "bin_start": 6630.6,
            "count": 0
           },
           {
            "bin_end": 8288,
            "bin_start": 7459.3,
            "count": 1
           }
          ],
          "max": "8288",
          "min": "1",
          "nan_count": 0,
          "unique_count": 10
         }
        },
        {
         "dtype": "int64",
         "name": "Unnamed: 0.1",
         "stats": {
          "histogram": [
           {
            "bin_end": 829.7,
            "bin_start": 1,
            "count": 77
           },
           {
            "bin_end": 1658.4,
            "bin_start": 829.7,
            "count": 0
           },
           {
            "bin_end": 2487.1000000000004,
            "bin_start": 1658.4,
            "count": 0
           },
           {
            "bin_end": 3315.8,
            "bin_start": 2487.1000000000004,
            "count": 0
           },
           {
            "bin_end": 4144.5,
            "bin_start": 3315.8,
            "count": 0
           },
           {
            "bin_end": 4973.200000000001,
            "bin_start": 4144.5,
            "count": 0
           },
           {
            "bin_end": 5801.900000000001,
            "bin_start": 4973.200000000001,
            "count": 0
           },
           {
            "bin_end": 6630.6,
            "bin_start": 5801.900000000001,
            "count": 0
           },
           {
            "bin_end": 7459.3,
            "bin_start": 6630.6,
            "count": 0
           },
           {
            "bin_end": 8288,
            "bin_start": 7459.3,
            "count": 1
           }
          ],
          "max": "8288",
          "min": "1",
          "nan_count": 0,
          "unique_count": 10
         }
        },
        {
         "dtype": "int64",
         "name": "id",
         "stats": {
          "histogram": [
           {
            "bin_end": 829.7,
            "bin_start": 1,
            "count": 77
           },
           {
            "bin_end": 1658.4,
            "bin_start": 829.7,
            "count": 0
           },
           {
            "bin_end": 2487.1000000000004,
            "bin_start": 1658.4,
            "count": 0
           },
           {
            "bin_end": 3315.8,
            "bin_start": 2487.1000000000004,
            "count": 0
           },
           {
            "bin_end": 4144.5,
            "bin_start": 3315.8,
            "count": 0
           },
           {
            "bin_end": 4973.200000000001,
            "bin_start": 4144.5,
            "count": 0
           },
           {
            "bin_end": 5801.900000000001,
            "bin_start": 4973.200000000001,
            "count": 0
           },
           {
            "bin_end": 6630.6,
            "bin_start": 5801.900000000001,
            "count": 0
           },
           {
            "bin_end": 7459.3,
            "bin_start": 6630.6,
            "count": 0
           },
           {
            "bin_end": 8288,
            "bin_start": 7459.3,
            "count": 1
           }
          ],
          "max": "8288",
          "min": "1",
          "nan_count": 0,
          "unique_count": 10
         }
        },
        {
         "dtype": "int64",
         "name": "permalink",
         "stats": {
          "histogram": [
           {
            "bin_end": 829.7,
            "bin_start": 1,
            "count": 77
           },
           {
            "bin_end": 1658.4,
            "bin_start": 829.7,
            "count": 0
           },
           {
            "bin_end": 2487.1000000000004,
            "bin_start": 1658.4,
            "count": 0
           },
           {
            "bin_end": 3315.8,
            "bin_start": 2487.1000000000004,
            "count": 0
           },
           {
            "bin_end": 4144.5,
            "bin_start": 3315.8,
            "count": 0
           },
           {
            "bin_end": 4973.200000000001,
            "bin_start": 4144.5,
            "count": 0
           },
           {
            "bin_end": 5801.900000000001,
            "bin_start": 4973.200000000001,
            "count": 0
           },
           {
            "bin_end": 6630.6,
            "bin_start": 5801.900000000001,
            "count": 0
           },
           {
            "bin_end": 7459.3,
            "bin_start": 6630.6,
            "count": 0
           },
           {
            "bin_end": 8288,
            "bin_start": 7459.3,
            "count": 1
           }
          ],
          "max": "8288",
          "min": "1",
          "nan_count": 0,
          "unique_count": 10
         }
        },
        {
         "dtype": "int64",
         "name": "comments_count",
         "stats": {
          "histogram": [
           {
            "bin_end": 829.7,
            "bin_start": 1,
            "count": 77
           },
           {
            "bin_end": 1658.4,
            "bin_start": 829.7,
            "count": 0
           },
           {
            "bin_end": 2487.1000000000004,
            "bin_start": 1658.4,
            "count": 0
           },
           {
            "bin_end": 3315.8,
            "bin_start": 2487.1000000000004,
            "count": 0
           },
           {
            "bin_end": 4144.5,
            "bin_start": 3315.8,
            "count": 0
           },
           {
            "bin_end": 4973.200000000001,
            "bin_start": 4144.5,
            "count": 0
           },
           {
            "bin_end": 5801.900000000001,
            "bin_start": 4973.200000000001,
            "count": 0
           },
           {
            "bin_end": 6630.6,
            "bin_start": 5801.900000000001,
            "count": 0
           },
           {
            "bin_end": 7459.3,
            "bin_start": 6630.6,
            "count": 0
           },
           {
            "bin_end": 8288,
            "bin_start": 7459.3,
            "count": 1
           }
          ],
          "max": "8288",
          "min": "1",
          "nan_count": 0,
          "unique_count": 10
         }
        },
        {
         "dtype": "int64",
         "name": "like_count",
         "stats": {
          "histogram": [
           {
            "bin_end": 781.1,
            "bin_start": 1,
            "count": 77
           },
           {
            "bin_end": 1561.2,
            "bin_start": 781.1,
            "count": 0
           },
           {
            "bin_end": 2341.3,
            "bin_start": 1561.2,
            "count": 0
           },
           {
            "bin_end": 3121.4,
            "bin_start": 2341.3,
            "count": 0
           },
           {
            "bin_end": 3901.5,
            "bin_start": 3121.4,
            "count": 0
           },
           {
            "bin_end": 4681.6,
            "bin_start": 3901.5,
            "count": 0
           },
           {
            "bin_end": 5461.7,
            "bin_start": 4681.6,
            "count": 0
           },
           {
            "bin_end": 6241.8,
            "bin_start": 5461.7,
            "count": 0
           },
           {
            "bin_end": 7021.900000000001,
            "bin_start": 6241.8,
            "count": 0
           },
           {
            "bin_end": 7802,
            "bin_start": 7021.900000000001,
            "count": 1
           }
          ],
          "max": "7802",
          "min": "1",
          "nan_count": 0,
          "unique_count": 9
         }
        },
        {
         "dtype": "int64",
         "name": "media_type",
         "stats": {
          "histogram": [
           {
            "bin_end": 829.7,
            "bin_start": 1,
            "count": 77
           },
           {
            "bin_end": 1658.4,
            "bin_start": 829.7,
            "count": 0
           },
           {
            "bin_end": 2487.1000000000004,
            "bin_start": 1658.4,
            "count": 0
           },
           {
            "bin_end": 3315.8,
            "bin_start": 2487.1000000000004,
            "count": 0
           },
           {
            "bin_end": 4144.5,
            "bin_start": 3315.8,
            "count": 0
           },
           {
            "bin_end": 4973.200000000001,
            "bin_start": 4144.5,
            "count": 0
           },
           {
            "bin_end": 5801.900000000001,
            "bin_start": 4973.200000000001,
            "count": 0
           },
           {
            "bin_end": 6630.6,
            "bin_start": 5801.900000000001,
            "count": 0
           },
           {
            "bin_end": 7459.3,
            "bin_start": 6630.6,
            "count": 0
           },
           {
            "bin_end": 8288,
            "bin_start": 7459.3,
            "count": 1
           }
          ],
          "max": "8288",
          "min": "1",
          "nan_count": 0,
          "unique_count": 10
         }
        },
        {
         "dtype": "int64",
         "name": "media_url",
         "stats": {
          "histogram": [
           {
            "bin_end": 655.3,
            "bin_start": 0,
            "count": 77
           },
           {
            "bin_end": 1310.6,
            "bin_start": 655.3,
            "count": 0
           },
           {
            "bin_end": 1965.8999999999999,
            "bin_start": 1310.6,
            "count": 0
           },
           {
            "bin_end": 2621.2,
            "bin_start": 1965.8999999999999,
            "count": 0
           },
           {
            "bin_end": 3276.5,
            "bin_start": 2621.2,
            "count": 0
           },
           {
            "bin_end": 3931.7999999999997,
            "bin_start": 3276.5,
            "count": 0
           },
           {
            "bin_end": 4587.099999999999,
            "bin_start": 3931.7999999999997,
            "count": 0
           },
           {
            "bin_end": 5242.4,
            "bin_start": 4587.099999999999,
            "count": 0
           },
           {
            "bin_end": 5897.7,
            "bin_start": 5242.4,
            "count": 0
           },
           {
            "bin_end": 6553,
            "bin_start": 5897.7,
            "count": 1
           }
          ],
          "max": "6553",
          "min": "0",
          "nan_count": 0,
          "unique_count": 10
         }
        },
        {
         "dtype": "int64",
         "name": "timestamp",
         "stats": {
          "histogram": [
           {
            "bin_end": 829.7,
            "bin_start": 1,
            "count": 77
           },
           {
            "bin_end": 1658.4,
            "bin_start": 829.7,
            "count": 0
           },
           {
            "bin_end": 2487.1000000000004,
            "bin_start": 1658.4,
            "count": 0
           },
           {
            "bin_end": 3315.8,
            "bin_start": 2487.1000000000004,
            "count": 0
           },
           {
            "bin_end": 4144.5,
            "bin_start": 3315.8,
            "count": 0
           },
           {
            "bin_end": 4973.200000000001,
            "bin_start": 4144.5,
            "count": 0
           },
           {
            "bin_end": 5801.900000000001,
            "bin_start": 4973.200000000001,
            "count": 0
           },
           {
            "bin_end": 6630.6,
            "bin_start": 5801.900000000001,
            "count": 0
           },
           {
            "bin_end": 7459.3,
            "bin_start": 6630.6,
            "count": 0
           },
           {
            "bin_end": 8288,
            "bin_start": 7459.3,
            "count": 1
           }
          ],
          "max": "8288",
          "min": "1",
          "nan_count": 0,
          "unique_count": 10
         }
        },
        {
         "dtype": "int64",
         "name": "caption",
         "stats": {
          "histogram": [
           {
            "bin_end": 829.7,
            "bin_start": 1,
            "count": 77
           },
           {
            "bin_end": 1658.4,
            "bin_start": 829.7,
            "count": 0
           },
           {
            "bin_end": 2487.1000000000004,
            "bin_start": 1658.4,
            "count": 0
           },
           {
            "bin_end": 3315.8,
            "bin_start": 2487.1000000000004,
            "count": 0
           },
           {
            "bin_end": 4144.5,
            "bin_start": 3315.8,
            "count": 0
           },
           {
            "bin_end": 4973.200000000001,
            "bin_start": 4144.5,
            "count": 0
           },
           {
            "bin_end": 5801.900000000001,
            "bin_start": 4973.200000000001,
            "count": 0
           },
           {
            "bin_end": 6630.6,
            "bin_start": 5801.900000000001,
            "count": 0
           },
           {
            "bin_end": 7459.3,
            "bin_start": 6630.6,
            "count": 0
           },
           {
            "bin_end": 8288,
            "bin_start": 7459.3,
            "count": 1
           }
          ],
          "max": "8288",
          "min": "1",
          "nan_count": 0,
          "unique_count": 10
         }
        },
        {
         "dtype": "int64",
         "name": "is_fake",
         "stats": {
          "histogram": [
           {
            "bin_end": 829.7,
            "bin_start": 1,
            "count": 77
           },
           {
            "bin_end": 1658.4,
            "bin_start": 829.7,
            "count": 0
           },
           {
            "bin_end": 2487.1000000000004,
            "bin_start": 1658.4,
            "count": 0
           },
           {
            "bin_end": 3315.8,
            "bin_start": 2487.1000000000004,
            "count": 0
           },
           {
            "bin_end": 4144.5,
            "bin_start": 3315.8,
            "count": 0
           },
           {
            "bin_end": 4973.200000000001,
            "bin_start": 4144.5,
            "count": 0
           },
           {
            "bin_end": 5801.900000000001,
            "bin_start": 4973.200000000001,
            "count": 0
           },
           {
            "bin_end": 6630.6,
            "bin_start": 5801.900000000001,
            "count": 0
           },
           {
            "bin_end": 7459.3,
            "bin_start": 6630.6,
            "count": 0
           },
           {
            "bin_end": 8288,
            "bin_start": 7459.3,
            "count": 1
           }
          ],
          "max": "8288",
          "min": "1",
          "nan_count": 0,
          "unique_count": 10
         }
        },
        {
         "dtype": "int64",
         "name": "actual_text",
         "stats": {
          "histogram": [
           {
            "bin_end": 829.7,
            "bin_start": 1,
            "count": 77
           },
           {
            "bin_end": 1658.4,
            "bin_start": 829.7,
            "count": 0
           },
           {
            "bin_end": 2487.1000000000004,
            "bin_start": 1658.4,
            "count": 0
           },
           {
            "bin_end": 3315.8,
            "bin_start": 2487.1000000000004,
            "count": 0
           },
           {
            "bin_end": 4144.5,
            "bin_start": 3315.8,
            "count": 0
           },
           {
            "bin_end": 4973.200000000001,
            "bin_start": 4144.5,
            "count": 0
           },
           {
            "bin_end": 5801.900000000001,
            "bin_start": 4973.200000000001,
            "count": 0
           },
           {
            "bin_end": 6630.6,
            "bin_start": 5801.900000000001,
            "count": 0
           },
           {
            "bin_end": 7459.3,
            "bin_start": 6630.6,
            "count": 0
           },
           {
            "bin_end": 8288,
            "bin_start": 7459.3,
            "count": 1
           }
          ],
          "max": "8288",
          "min": "1",
          "nan_count": 0,
          "unique_count": 10
         }
        },
        {
         "dtype": "int64",
         "name": "hashtags",
         "stats": {
          "histogram": [
           {
            "bin_end": 798.3,
            "bin_start": 0,
            "count": 77
           },
           {
            "bin_end": 1596.6,
            "bin_start": 798.3,
            "count": 0
           },
           {
            "bin_end": 2394.8999999999996,
            "bin_start": 1596.6,
            "count": 0
           },
           {
            "bin_end": 3193.2,
            "bin_start": 2394.8999999999996,
            "count": 0
           },
           {
            "bin_end": 3991.5,
            "bin_start": 3193.2,
            "count": 0
           },
           {
            "bin_end": 4789.799999999999,
            "bin_start": 3991.5,
            "count": 0
           },
           {
            "bin_end": 5588.099999999999,
            "bin_start": 4789.799999999999,
            "count": 0
           },
           {
            "bin_end": 6386.4,
            "bin_start": 5588.099999999999,
            "count": 0
           },
           {
            "bin_end": 7184.7,
            "bin_start": 6386.4,
            "count": 0
           },
           {
            "bin_end": 7983,
            "bin_start": 7184.7,
            "count": 1
           }
          ],
          "max": "7983",
          "min": "0",
          "nan_count": 0,
          "unique_count": 11
         }
        },
        {
         "dtype": "int64",
         "name": "is_english",
         "stats": {
          "histogram": [
           {
            "bin_end": 829.7,
            "bin_start": 1,
            "count": 77
           },
           {
            "bin_end": 1658.4,
            "bin_start": 829.7,
            "count": 0
           },
           {
            "bin_end": 2487.1000000000004,
            "bin_start": 1658.4,
            "count": 0
           },
           {
            "bin_end": 3315.8,
            "bin_start": 2487.1000000000004,
            "count": 0
           },
           {
            "bin_end": 4144.5,
            "bin_start": 3315.8,
            "count": 0
           },
           {
            "bin_end": 4973.200000000001,
            "bin_start": 4144.5,
            "count": 0
           },
           {
            "bin_end": 5801.900000000001,
            "bin_start": 4973.200000000001,
            "count": 0
           },
           {
            "bin_end": 6630.6,
            "bin_start": 5801.900000000001,
            "count": 0
           },
           {
            "bin_end": 7459.3,
            "bin_start": 6630.6,
            "count": 0
           },
           {
            "bin_end": 8288,
            "bin_start": 7459.3,
            "count": 1
           }
          ],
          "max": "8288",
          "min": "1",
          "nan_count": 0,
          "unique_count": 10
         }
        },
        {
         "dtype": "int64",
         "name": "english_caption",
         "stats": {
          "histogram": [
           {
            "bin_end": 829.7,
            "bin_start": 1,
            "count": 77
           },
           {
            "bin_end": 1658.4,
            "bin_start": 829.7,
            "count": 0
           },
           {
            "bin_end": 2487.1000000000004,
            "bin_start": 1658.4,
            "count": 0
           },
           {
            "bin_end": 3315.8,
            "bin_start": 2487.1000000000004,
            "count": 0
           },
           {
            "bin_end": 4144.5,
            "bin_start": 3315.8,
            "count": 0
           },
           {
            "bin_end": 4973.200000000001,
            "bin_start": 4144.5,
            "count": 0
           },
           {
            "bin_end": 5801.900000000001,
            "bin_start": 4973.200000000001,
            "count": 0
           },
           {
            "bin_end": 6630.6,
            "bin_start": 5801.900000000001,
            "count": 0
           },
           {
            "bin_end": 7459.3,
            "bin_start": 6630.6,
            "count": 0
           },
           {
            "bin_end": 8288,
            "bin_start": 7459.3,
            "count": 1
           }
          ],
          "max": "8288",
          "min": "1",
          "nan_count": 0,
          "unique_count": 10
         }
        },
        {
         "dtype": "int64",
         "name": "preprocessed_caption",
         "stats": {
          "histogram": [
           {
            "bin_end": 828.8,
            "bin_start": 0,
            "count": 77
           },
           {
            "bin_end": 1657.6,
            "bin_start": 828.8,
            "count": 0
           },
           {
            "bin_end": 2486.3999999999996,
            "bin_start": 1657.6,
            "count": 0
           },
           {
            "bin_end": 3315.2,
            "bin_start": 2486.3999999999996,
            "count": 0
           },
           {
            "bin_end": 4144,
            "bin_start": 3315.2,
            "count": 0
           },
           {
            "bin_end": 4972.799999999999,
            "bin_start": 4144,
            "count": 0
           },
           {
            "bin_end": 5801.599999999999,
            "bin_start": 4972.799999999999,
            "count": 0
           },
           {
            "bin_end": 6630.4,
            "bin_start": 5801.599999999999,
            "count": 0
           },
           {
            "bin_end": 7459.2,
            "bin_start": 6630.4,
            "count": 0
           },
           {
            "bin_end": 8288,
            "bin_start": 7459.2,
            "count": 1
           }
          ],
          "max": "8288",
          "min": "0",
          "nan_count": 0,
          "unique_count": 10
         }
        },
        {
         "dtype": "object",
         "name": "_deepnote_index_column"
        }
       ],
       "row_count": 78,
       "rows": [
        {
         "Unnamed: 0": 8288,
         "Unnamed: 0.1": 8288,
         "_deepnote_index_column": "0",
         "actual_text": 8288,
         "caption": 8288,
         "comments_count": 8288,
         "english_caption": 8288,
         "hashtags": 7983,
         "id": 8288,
         "index": 8288,
         "is_english": 8288,
         "is_fake": 8288,
         "level_0": 8288,
         "like_count": 7802,
         "media_type": 8288,
         "media_url": 6553,
         "permalink": 8288,
         "preprocessed_caption": 8288,
         "timestamp": 8288
        },
        {
         "Unnamed: 0": 1,
         "Unnamed: 0.1": 1,
         "_deepnote_index_column": "According to AFP Factual that claim is Falso",
         "actual_text": 1,
         "caption": 1,
         "comments_count": 1,
         "english_caption": 1,
         "hashtags": 1,
         "id": 1,
         "index": 1,
         "is_english": 1,
         "is_fake": 1,
         "level_0": 1,
         "like_count": 1,
         "media_type": 1,
         "media_url": 1,
         "permalink": 1,
         "preprocessed_caption": 1,
         "timestamp": 1
        },
        {
         "Unnamed: 0": 1,
         "Unnamed: 0.1": 1,
         "_deepnote_index_column": "According to AFP Factuel that claim is خطأ",
         "actual_text": 1,
         "caption": 1,
         "comments_count": 1,
         "english_caption": 1,
         "hashtags": 1,
         "id": 1,
         "index": 1,
         "is_english": 1,
         "is_fake": 1,
         "level_0": 1,
         "like_count": 1,
         "media_type": 1,
         "media_url": 0,
         "permalink": 1,
         "preprocessed_caption": 1,
         "timestamp": 1
        },
        {
         "Unnamed: 0": 6,
         "Unnamed: 0.1": 6,
         "_deepnote_index_column": "According to AP News that claim is False.",
         "actual_text": 6,
         "caption": 6,
         "comments_count": 6,
         "english_caption": 6,
         "hashtags": 6,
         "id": 6,
         "index": 6,
         "is_english": 6,
         "is_fake": 6,
         "level_0": 6,
         "like_count": 5,
         "media_type": 6,
         "media_url": 4,
         "permalink": 6,
         "preprocessed_caption": 6,
         "timestamp": 6
        },
        {
         "Unnamed: 0": 1,
         "Unnamed: 0.1": 1,
         "_deepnote_index_column": "According to AP News that claim is That’s incorrect.",
         "actual_text": 1,
         "caption": 1,
         "comments_count": 1,
         "english_caption": 1,
         "hashtags": 1,
         "id": 1,
         "index": 1,
         "is_english": 1,
         "is_fake": 1,
         "level_0": 1,
         "like_count": 1,
         "media_type": 1,
         "media_url": 1,
         "permalink": 1,
         "preprocessed_caption": 1,
         "timestamp": 1
        },
        {
         "Unnamed: 0": 3,
         "Unnamed: 0.1": 3,
         "_deepnote_index_column": "According to Alt News that claim is False",
         "actual_text": 3,
         "caption": 3,
         "comments_count": 3,
         "english_caption": 3,
         "hashtags": 3,
         "id": 3,
         "index": 3,
         "is_english": 3,
         "is_fake": 3,
         "level_0": 3,
         "like_count": 3,
         "media_type": 3,
         "media_url": 3,
         "permalink": 3,
         "preprocessed_caption": 3,
         "timestamp": 3
        },
        {
         "Unnamed: 0": 2,
         "Unnamed: 0.1": 2,
         "_deepnote_index_column": "According to BOOM FactCheck that claim is False",
         "actual_text": 2,
         "caption": 2,
         "comments_count": 2,
         "english_caption": 2,
         "hashtags": 2,
         "id": 2,
         "index": 2,
         "is_english": 2,
         "is_fake": 2,
         "level_0": 2,
         "like_count": 2,
         "media_type": 2,
         "media_url": 1,
         "permalink": 2,
         "preprocessed_caption": 2,
         "timestamp": 2
        },
        {
         "Unnamed: 0": 2,
         "Unnamed: 0.1": 2,
         "_deepnote_index_column": "According to BOOM FactCheck that claim is Misleading",
         "actual_text": 2,
         "caption": 2,
         "comments_count": 2,
         "english_caption": 2,
         "hashtags": 2,
         "id": 2,
         "index": 2,
         "is_english": 2,
         "is_fake": 2,
         "level_0": 2,
         "like_count": 2,
         "media_type": 2,
         "media_url": 2,
         "permalink": 2,
         "preprocessed_caption": 2,
         "timestamp": 2
        },
        {
         "Unnamed: 0": 4,
         "Unnamed: 0.1": 4,
         "_deepnote_index_column": "According to Boatos.org that claim is Falso",
         "actual_text": 4,
         "caption": 4,
         "comments_count": 4,
         "english_caption": 4,
         "hashtags": 4,
         "id": 4,
         "index": 4,
         "is_english": 4,
         "is_fake": 4,
         "level_0": 4,
         "like_count": 4,
         "media_type": 4,
         "media_url": 2,
         "permalink": 4,
         "preprocessed_caption": 0,
         "timestamp": 4
        },
        {
         "Unnamed: 0": 1,
         "Unnamed: 0.1": 1,
         "_deepnote_index_column": "According to Bufale.net that claim is Nessuna conferma su Charles Leclerc alla Mercedes: bufala confermata dal mercato F1",
         "actual_text": 1,
         "caption": 1,
         "comments_count": 1,
         "english_caption": 1,
         "hashtags": 1,
         "id": 1,
         "index": 1,
         "is_english": 1,
         "is_fake": 1,
         "level_0": 1,
         "like_count": 1,
         "media_type": 1,
         "media_url": 0,
         "permalink": 1,
         "preprocessed_caption": 1,
         "timestamp": 1
        }
       ]
      },
      "text/html": [
       "<div>\n",
       "<style scoped>\n",
       "    .dataframe tbody tr th:only-of-type {\n",
       "        vertical-align: middle;\n",
       "    }\n",
       "\n",
       "    .dataframe tbody tr th {\n",
       "        vertical-align: top;\n",
       "    }\n",
       "\n",
       "    .dataframe thead th {\n",
       "        text-align: right;\n",
       "    }\n",
       "</style>\n",
       "<table border=\"1\" class=\"dataframe\">\n",
       "  <thead>\n",
       "    <tr style=\"text-align: right;\">\n",
       "      <th></th>\n",
       "      <th>Unnamed: 0</th>\n",
       "      <th>level_0</th>\n",
       "      <th>index</th>\n",
       "      <th>Unnamed: 0.1</th>\n",
       "      <th>id</th>\n",
       "      <th>permalink</th>\n",
       "      <th>comments_count</th>\n",
       "      <th>like_count</th>\n",
       "      <th>media_type</th>\n",
       "      <th>media_url</th>\n",
       "      <th>timestamp</th>\n",
       "      <th>caption</th>\n",
       "      <th>is_fake</th>\n",
       "      <th>actual_text</th>\n",
       "      <th>hashtags</th>\n",
       "      <th>is_english</th>\n",
       "      <th>english_caption</th>\n",
       "      <th>preprocessed_caption</th>\n",
       "    </tr>\n",
       "    <tr>\n",
       "      <th>fact_check</th>\n",
       "      <th></th>\n",
       "      <th></th>\n",
       "      <th></th>\n",
       "      <th></th>\n",
       "      <th></th>\n",
       "      <th></th>\n",
       "      <th></th>\n",
       "      <th></th>\n",
       "      <th></th>\n",
       "      <th></th>\n",
       "      <th></th>\n",
       "      <th></th>\n",
       "      <th></th>\n",
       "      <th></th>\n",
       "      <th></th>\n",
       "      <th></th>\n",
       "      <th></th>\n",
       "      <th></th>\n",
       "    </tr>\n",
       "  </thead>\n",
       "  <tbody>\n",
       "    <tr>\n",
       "      <th>0</th>\n",
       "      <td>8288</td>\n",
       "      <td>8288</td>\n",
       "      <td>8288</td>\n",
       "      <td>8288</td>\n",
       "      <td>8288</td>\n",
       "      <td>8288</td>\n",
       "      <td>8288</td>\n",
       "      <td>7802</td>\n",
       "      <td>8288</td>\n",
       "      <td>6553</td>\n",
       "      <td>8288</td>\n",
       "      <td>8288</td>\n",
       "      <td>8288</td>\n",
       "      <td>8288</td>\n",
       "      <td>7983</td>\n",
       "      <td>8288</td>\n",
       "      <td>8288</td>\n",
       "      <td>8288</td>\n",
       "    </tr>\n",
       "    <tr>\n",
       "      <th>According to AFP Factual that claim is Falso</th>\n",
       "      <td>1</td>\n",
       "      <td>1</td>\n",
       "      <td>1</td>\n",
       "      <td>1</td>\n",
       "      <td>1</td>\n",
       "      <td>1</td>\n",
       "      <td>1</td>\n",
       "      <td>1</td>\n",
       "      <td>1</td>\n",
       "      <td>1</td>\n",
       "      <td>1</td>\n",
       "      <td>1</td>\n",
       "      <td>1</td>\n",
       "      <td>1</td>\n",
       "      <td>1</td>\n",
       "      <td>1</td>\n",
       "      <td>1</td>\n",
       "      <td>1</td>\n",
       "    </tr>\n",
       "    <tr>\n",
       "      <th>According to AFP Factuel that claim is خطأ</th>\n",
       "      <td>1</td>\n",
       "      <td>1</td>\n",
       "      <td>1</td>\n",
       "      <td>1</td>\n",
       "      <td>1</td>\n",
       "      <td>1</td>\n",
       "      <td>1</td>\n",
       "      <td>1</td>\n",
       "      <td>1</td>\n",
       "      <td>0</td>\n",
       "      <td>1</td>\n",
       "      <td>1</td>\n",
       "      <td>1</td>\n",
       "      <td>1</td>\n",
       "      <td>1</td>\n",
       "      <td>1</td>\n",
       "      <td>1</td>\n",
       "      <td>1</td>\n",
       "    </tr>\n",
       "    <tr>\n",
       "      <th>According to AP News that claim is False.</th>\n",
       "      <td>6</td>\n",
       "      <td>6</td>\n",
       "      <td>6</td>\n",
       "      <td>6</td>\n",
       "      <td>6</td>\n",
       "      <td>6</td>\n",
       "      <td>6</td>\n",
       "      <td>5</td>\n",
       "      <td>6</td>\n",
       "      <td>4</td>\n",
       "      <td>6</td>\n",
       "      <td>6</td>\n",
       "      <td>6</td>\n",
       "      <td>6</td>\n",
       "      <td>6</td>\n",
       "      <td>6</td>\n",
       "      <td>6</td>\n",
       "      <td>6</td>\n",
       "    </tr>\n",
       "    <tr>\n",
       "      <th>According to AP News that claim is That’s incorrect.</th>\n",
       "      <td>1</td>\n",
       "      <td>1</td>\n",
       "      <td>1</td>\n",
       "      <td>1</td>\n",
       "      <td>1</td>\n",
       "      <td>1</td>\n",
       "      <td>1</td>\n",
       "      <td>1</td>\n",
       "      <td>1</td>\n",
       "      <td>1</td>\n",
       "      <td>1</td>\n",
       "      <td>1</td>\n",
       "      <td>1</td>\n",
       "      <td>1</td>\n",
       "      <td>1</td>\n",
       "      <td>1</td>\n",
       "      <td>1</td>\n",
       "      <td>1</td>\n",
       "    </tr>\n",
       "    <tr>\n",
       "      <th>...</th>\n",
       "      <td>...</td>\n",
       "      <td>...</td>\n",
       "      <td>...</td>\n",
       "      <td>...</td>\n",
       "      <td>...</td>\n",
       "      <td>...</td>\n",
       "      <td>...</td>\n",
       "      <td>...</td>\n",
       "      <td>...</td>\n",
       "      <td>...</td>\n",
       "      <td>...</td>\n",
       "      <td>...</td>\n",
       "      <td>...</td>\n",
       "      <td>...</td>\n",
       "      <td>...</td>\n",
       "      <td>...</td>\n",
       "      <td>...</td>\n",
       "      <td>...</td>\n",
       "    </tr>\n",
       "    <tr>\n",
       "      <th>According to YouTurn that claim is Misleading</th>\n",
       "      <td>1</td>\n",
       "      <td>1</td>\n",
       "      <td>1</td>\n",
       "      <td>1</td>\n",
       "      <td>1</td>\n",
       "      <td>1</td>\n",
       "      <td>1</td>\n",
       "      <td>1</td>\n",
       "      <td>1</td>\n",
       "      <td>0</td>\n",
       "      <td>1</td>\n",
       "      <td>1</td>\n",
       "      <td>1</td>\n",
       "      <td>1</td>\n",
       "      <td>1</td>\n",
       "      <td>1</td>\n",
       "      <td>1</td>\n",
       "      <td>1</td>\n",
       "    </tr>\n",
       "    <tr>\n",
       "      <th>According to גלובס that claim is לא נכון</th>\n",
       "      <td>3</td>\n",
       "      <td>3</td>\n",
       "      <td>3</td>\n",
       "      <td>3</td>\n",
       "      <td>3</td>\n",
       "      <td>3</td>\n",
       "      <td>3</td>\n",
       "      <td>2</td>\n",
       "      <td>3</td>\n",
       "      <td>2</td>\n",
       "      <td>3</td>\n",
       "      <td>3</td>\n",
       "      <td>3</td>\n",
       "      <td>3</td>\n",
       "      <td>3</td>\n",
       "      <td>3</td>\n",
       "      <td>3</td>\n",
       "      <td>3</td>\n",
       "    </tr>\n",
       "    <tr>\n",
       "      <th>According to مسبار that claim is زائف</th>\n",
       "      <td>1</td>\n",
       "      <td>1</td>\n",
       "      <td>1</td>\n",
       "      <td>1</td>\n",
       "      <td>1</td>\n",
       "      <td>1</td>\n",
       "      <td>1</td>\n",
       "      <td>1</td>\n",
       "      <td>1</td>\n",
       "      <td>0</td>\n",
       "      <td>1</td>\n",
       "      <td>1</td>\n",
       "      <td>1</td>\n",
       "      <td>1</td>\n",
       "      <td>1</td>\n",
       "      <td>1</td>\n",
       "      <td>1</td>\n",
       "      <td>1</td>\n",
       "    </tr>\n",
       "    <tr>\n",
       "      <th>According to 台灣事實查核中心 that claim is 1</th>\n",
       "      <td>1</td>\n",
       "      <td>1</td>\n",
       "      <td>1</td>\n",
       "      <td>1</td>\n",
       "      <td>1</td>\n",
       "      <td>1</td>\n",
       "      <td>1</td>\n",
       "      <td>1</td>\n",
       "      <td>1</td>\n",
       "      <td>1</td>\n",
       "      <td>1</td>\n",
       "      <td>1</td>\n",
       "      <td>1</td>\n",
       "      <td>1</td>\n",
       "      <td>1</td>\n",
       "      <td>1</td>\n",
       "      <td>1</td>\n",
       "      <td>1</td>\n",
       "    </tr>\n",
       "    <tr>\n",
       "      <th>According to 台灣事實查核中心 that claim is 錯誤</th>\n",
       "      <td>1</td>\n",
       "      <td>1</td>\n",
       "      <td>1</td>\n",
       "      <td>1</td>\n",
       "      <td>1</td>\n",
       "      <td>1</td>\n",
       "      <td>1</td>\n",
       "      <td>1</td>\n",
       "      <td>1</td>\n",
       "      <td>1</td>\n",
       "      <td>1</td>\n",
       "      <td>1</td>\n",
       "      <td>1</td>\n",
       "      <td>1</td>\n",
       "      <td>1</td>\n",
       "      <td>1</td>\n",
       "      <td>1</td>\n",
       "      <td>1</td>\n",
       "    </tr>\n",
       "  </tbody>\n",
       "</table>\n",
       "<p>78 rows × 18 columns</p>\n",
       "</div>"
      ],
      "text/plain": [
       "                                                    Unnamed: 0  level_0  \\\n",
       "fact_check                                                                \n",
       "0                                                         8288     8288   \n",
       "According to AFP Factual that claim is Falso                 1        1   \n",
       "According to AFP Factuel that claim is خطأ                   1        1   \n",
       "According to AP News that claim is False.                    6        6   \n",
       "According to AP News that claim is That’s incor...           1        1   \n",
       "...                                                        ...      ...   \n",
       "According to YouTurn that claim is Misleading                1        1   \n",
       "According to גלובס that claim is לא נכון                     3        3   \n",
       "According to مسبار that claim is زائف                        1        1   \n",
       "According to 台灣事實查核中心 that claim is 1                        1        1   \n",
       "According to 台灣事實查核中心 that claim is 錯誤                       1        1   \n",
       "\n",
       "                                                    index  Unnamed: 0.1    id  \\\n",
       "fact_check                                                                      \n",
       "0                                                    8288          8288  8288   \n",
       "According to AFP Factual that claim is Falso            1             1     1   \n",
       "According to AFP Factuel that claim is خطأ              1             1     1   \n",
       "According to AP News that claim is False.               6             6     6   \n",
       "According to AP News that claim is That’s incor...      1             1     1   \n",
       "...                                                   ...           ...   ...   \n",
       "According to YouTurn that claim is Misleading           1             1     1   \n",
       "According to גלובס that claim is לא נכון                3             3     3   \n",
       "According to مسبار that claim is زائف                   1             1     1   \n",
       "According to 台灣事實查核中心 that claim is 1                   1             1     1   \n",
       "According to 台灣事實查核中心 that claim is 錯誤                  1             1     1   \n",
       "\n",
       "                                                    permalink  comments_count  \\\n",
       "fact_check                                                                      \n",
       "0                                                        8288            8288   \n",
       "According to AFP Factual that claim is Falso                1               1   \n",
       "According to AFP Factuel that claim is خطأ                  1               1   \n",
       "According to AP News that claim is False.                   6               6   \n",
       "According to AP News that claim is That’s incor...          1               1   \n",
       "...                                                       ...             ...   \n",
       "According to YouTurn that claim is Misleading               1               1   \n",
       "According to גלובס that claim is לא נכון                    3               3   \n",
       "According to مسبار that claim is زائف                       1               1   \n",
       "According to 台灣事實查核中心 that claim is 1                       1               1   \n",
       "According to 台灣事實查核中心 that claim is 錯誤                      1               1   \n",
       "\n",
       "                                                    like_count  media_type  \\\n",
       "fact_check                                                                   \n",
       "0                                                         7802        8288   \n",
       "According to AFP Factual that claim is Falso                 1           1   \n",
       "According to AFP Factuel that claim is خطأ                   1           1   \n",
       "According to AP News that claim is False.                    5           6   \n",
       "According to AP News that claim is That’s incor...           1           1   \n",
       "...                                                        ...         ...   \n",
       "According to YouTurn that claim is Misleading                1           1   \n",
       "According to גלובס that claim is לא נכון                     2           3   \n",
       "According to مسبار that claim is زائف                        1           1   \n",
       "According to 台灣事實查核中心 that claim is 1                        1           1   \n",
       "According to 台灣事實查核中心 that claim is 錯誤                       1           1   \n",
       "\n",
       "                                                    media_url  timestamp  \\\n",
       "fact_check                                                                 \n",
       "0                                                        6553       8288   \n",
       "According to AFP Factual that claim is Falso                1          1   \n",
       "According to AFP Factuel that claim is خطأ                  0          1   \n",
       "According to AP News that claim is False.                   4          6   \n",
       "According to AP News that claim is That’s incor...          1          1   \n",
       "...                                                       ...        ...   \n",
       "According to YouTurn that claim is Misleading               0          1   \n",
       "According to גלובס that claim is לא נכון                    2          3   \n",
       "According to مسبار that claim is زائف                       0          1   \n",
       "According to 台灣事實查核中心 that claim is 1                       1          1   \n",
       "According to 台灣事實查核中心 that claim is 錯誤                      1          1   \n",
       "\n",
       "                                                    caption  is_fake  \\\n",
       "fact_check                                                             \n",
       "0                                                      8288     8288   \n",
       "According to AFP Factual that claim is Falso              1        1   \n",
       "According to AFP Factuel that claim is خطأ                1        1   \n",
       "According to AP News that claim is False.                 6        6   \n",
       "According to AP News that claim is That’s incor...        1        1   \n",
       "...                                                     ...      ...   \n",
       "According to YouTurn that claim is Misleading             1        1   \n",
       "According to גלובס that claim is לא נכון                  3        3   \n",
       "According to مسبار that claim is زائف                     1        1   \n",
       "According to 台灣事實查核中心 that claim is 1                     1        1   \n",
       "According to 台灣事實查核中心 that claim is 錯誤                    1        1   \n",
       "\n",
       "                                                    actual_text  hashtags  \\\n",
       "fact_check                                                                  \n",
       "0                                                          8288      7983   \n",
       "According to AFP Factual that claim is Falso                  1         1   \n",
       "According to AFP Factuel that claim is خطأ                    1         1   \n",
       "According to AP News that claim is False.                     6         6   \n",
       "According to AP News that claim is That’s incor...            1         1   \n",
       "...                                                         ...       ...   \n",
       "According to YouTurn that claim is Misleading                 1         1   \n",
       "According to גלובס that claim is לא נכון                      3         3   \n",
       "According to مسبار that claim is زائف                         1         1   \n",
       "According to 台灣事實查核中心 that claim is 1                         1         1   \n",
       "According to 台灣事實查核中心 that claim is 錯誤                        1         1   \n",
       "\n",
       "                                                    is_english  \\\n",
       "fact_check                                                       \n",
       "0                                                         8288   \n",
       "According to AFP Factual that claim is Falso                 1   \n",
       "According to AFP Factuel that claim is خطأ                   1   \n",
       "According to AP News that claim is False.                    6   \n",
       "According to AP News that claim is That’s incor...           1   \n",
       "...                                                        ...   \n",
       "According to YouTurn that claim is Misleading                1   \n",
       "According to גלובס that claim is לא נכון                     3   \n",
       "According to مسبار that claim is زائف                        1   \n",
       "According to 台灣事實查核中心 that claim is 1                        1   \n",
       "According to 台灣事實查核中心 that claim is 錯誤                       1   \n",
       "\n",
       "                                                    english_caption  \\\n",
       "fact_check                                                            \n",
       "0                                                              8288   \n",
       "According to AFP Factual that claim is Falso                      1   \n",
       "According to AFP Factuel that claim is خطأ                        1   \n",
       "According to AP News that claim is False.                         6   \n",
       "According to AP News that claim is That’s incor...                1   \n",
       "...                                                             ...   \n",
       "According to YouTurn that claim is Misleading                     1   \n",
       "According to גלובס that claim is לא נכון                          3   \n",
       "According to مسبار that claim is زائف                             1   \n",
       "According to 台灣事實查核中心 that claim is 1                             1   \n",
       "According to 台灣事實查核中心 that claim is 錯誤                            1   \n",
       "\n",
       "                                                    preprocessed_caption  \n",
       "fact_check                                                                \n",
       "0                                                                   8288  \n",
       "According to AFP Factual that claim is Falso                           1  \n",
       "According to AFP Factuel that claim is خطأ                             1  \n",
       "According to AP News that claim is False.                              6  \n",
       "According to AP News that claim is That’s incor...                     1  \n",
       "...                                                                  ...  \n",
       "According to YouTurn that claim is Misleading                          1  \n",
       "According to גלובס that claim is לא נכון                               3  \n",
       "According to مسبار that claim is زائف                                  1  \n",
       "According to 台灣事實查核中心 that claim is 1                                  1  \n",
       "According to 台灣事實查核中心 that claim is 錯誤                                 1  \n",
       "\n",
       "[78 rows x 18 columns]"
      ]
     },
     "execution_count": 15,
     "metadata": {},
     "output_type": "execute_result"
    }
   ],
   "source": [
    "df.groupby('fact_check').count()"
   ]
  },
  {
   "cell_type": "markdown",
   "metadata": {
    "created_in_deepnote_cell": true,
    "deepnote_cell_type": "markdown"
   },
   "source": [
    "<a style='text-decoration:none;line-height:16px;display:flex;color:#5B5B62;padding:10px;justify-content:end;' href='https://deepnote.com?utm_source=created-in-deepnote-cell&projectId=4c8af7b1-f3b8-45ab-bbdc-6a32713107d1' target=\"_blank\">\n",
    "<img alt='Created in deepnote.com' style='display:inline;max-height:16px;margin:0px;margin-right:7.5px;' src='data:image/svg+xml;base64,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' > </img>\n",
    "Created in <span style='font-weight:600;margin-left:4px;'>Deepnote</span></a>"
   ]
  }
 ],
 "metadata": {
  "deepnote": {},
  "deepnote_execution_queue": [],
  "deepnote_notebook_id": "5ad605f05df34ce2a69a34e116264274",
  "kernelspec": {
   "display_name": "",
   "name": ""
  },
  "language_info": {
   "name": ""
  }
 },
 "nbformat": 4,
 "nbformat_minor": 4
}
